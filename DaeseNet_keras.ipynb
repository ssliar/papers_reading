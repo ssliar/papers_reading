{
 "cells": [
  {
   "cell_type": "markdown",
   "metadata": {
    "ExecuteTime": {
     "end_time": "2018-03-15T05:32:41.582264Z",
     "start_time": "2018-03-15T05:32:41.575264Z"
    }
   },
   "source": [
    "# DaeseNet implement in keras\n",
    "* papers：[Densely Connected Convolutional Network](http://arxiv.org/abs/1608.06993)\n",
    "* dataset:cifar10\n",
    "* environment:tennsorflow==1.3, keras==2.08 "
   ]
  },
  {
   "cell_type": "markdown",
   "metadata": {},
   "source": [
    "## Common_functions"
   ]
  },
  {
   "cell_type": "markdown",
   "metadata": {
    "heading_collapsed": true
   },
   "source": [
    "### conv_factor\n",
    "* Apply BatchNorm, Relu 3x3Conv2D, optional dropout\n",
    "    * param x: Input keras network\n",
    "    * param concat_axis: int -- index of contatenate axis\n",
    "    * param nb_filter: int -- number of filters\n",
    "    * param dropout_rate: int -- dropout rate\n",
    "    * param weight_decay: int -- weight decay factor\n",
    "    * returns: keras network with b_norm, relu and Conv2D added\n",
    "    * rtype: keras network"
   ]
  },
  {
   "cell_type": "code",
   "execution_count": null,
   "metadata": {
    "hidden": true
   },
   "outputs": [],
   "source": [
    "def conv_factory(x, concat_axis, nb_filter,dropout_rate=None, weight_decay=1E-4):\n",
    "    x = BatchNormalization(axis=concat_axis,gamma_regularizer=l2(weight_decay),beta_regularizer=l2(weight_decay))(x)\n",
    "    x = Activation('relu')(x)\n",
    "    x = Conv2D(nb_filter, (3, 3),\n",
    "               kernel_initializer=\"he_uniform\",\n",
    "               padding=\"same\",\n",
    "               use_bias=False,\n",
    "               kernel_regularizer=l2(weight_decay))(x)\n",
    "    if dropout_rate:\n",
    "        x = Dropout(dropout_rate)(x)\n",
    "    return x"
   ]
  },
  {
   "cell_type": "markdown",
   "metadata": {
    "heading_collapsed": true
   },
   "source": [
    "### transition\n",
    "* Apply BatchNorm, Relu 1x1Conv2D, optional dropout and Maxpooling2D\n",
    "    * param x: keras model\n",
    "    * param concat_axis: int -- index of contatenate axis\n",
    "    * param nb_filter: int -- number of filters\n",
    "    * param dropout_rate: int -- dropout rate\n",
    "    * param weight_decay: int -- weight decay factor\n",
    "    * returns: model\n",
    "    * rtype: keras model, after applying batch_norm, relu-conv, dropout, maxpool"
   ]
  },
  {
   "cell_type": "code",
   "execution_count": null,
   "metadata": {
    "hidden": true
   },
   "outputs": [],
   "source": [
    "def transition(x, concat_axis, nb_filter,dropout_rate=None, weight_decay=1E-4):\n",
    "    x = BatchNormalization(axis=concat_axis,\n",
    "                           gamma_regularizer=l2(weight_decay),\n",
    "                           beta_regularizer=l2(weight_decay))(x)\n",
    "    x = Activation('relu')(x)\n",
    "    x = Conv2D(nb_filter, (1, 1),\n",
    "               kernel_initializer=\"he_uniform\",\n",
    "               padding=\"same\",\n",
    "               use_bias=False,\n",
    "               kernel_regularizer=l2(weight_decay))(x)\n",
    "    if dropout_rate:\n",
    "        x = Dropout(dropout_rate)(x)\n",
    "    x = AveragePooling2D((2, 2), strides=(2, 2))(x)\n",
    "    return x"
   ]
  },
  {
   "cell_type": "markdown",
   "metadata": {},
   "source": [
    "## create dateasets"
   ]
  },
  {
   "cell_type": "markdown",
   "metadata": {},
   "source": [
    "## cretate networks"
   ]
  },
  {
   "cell_type": "markdown",
   "metadata": {
    "heading_collapsed": true
   },
   "source": [
    "### 导入相关包"
   ]
  },
  {
   "cell_type": "code",
   "execution_count": null,
   "metadata": {
    "hidden": true
   },
   "outputs": [],
   "source": [
    "from keras.models import Model\n",
    "from keras.layers.core import Dense, Dropout, Activation\n",
    "from keras.layers.convolutional import Conv2D\n",
    "from keras.layers.pooling import AveragePooling2D\n",
    "from keras.layers.pooling import GlobalAveragePooling2D\n",
    "from keras.layers import Input, Concatenate\n",
    "from keras.layers.normalization import BatchNormalization\n",
    "from keras.regularizers import l2\n",
    "import keras.backend as K"
   ]
  },
  {
   "cell_type": "markdown",
   "metadata": {
    "heading_collapsed": true
   },
   "source": [
    "### Create densenetblock\n",
    "* Build a denseblock where the output of each conv_factory is fed to subsequent ones\n",
    "    * param x: keras model\n",
    "    * param concat_axis: int -- index of contatenate axis\n",
    "    * param nb_layers: int -- the number of layers of conv_factory to append to the model.\n",
    "    * param nb_filter: int -- number of filters\n",
    "    * param dropout_rate: int -- dropout rate\n",
    "    * param weight_decay: int -- weight decay factor\n",
    "    * returns: keras model with nb_layers of conv_factory appended\n",
    "    * rtype: keras model"
   ]
  },
  {
   "cell_type": "code",
   "execution_count": null,
   "metadata": {
    "hidden": true
   },
   "outputs": [],
   "source": [
    "def denseblock(x, concat_axis, nb_layers, nb_filter, growth_rate,dropout_rate=None, weight_decay=1E-4):\n",
    "    list_feat = [x]\n",
    "    for i in range(nb_layers):\n",
    "        x = conv_factory(x, concat_axis, growth_rate,dropout_rate, weight_decay)\n",
    "        list_feat.append(x)\n",
    "        x = Concatenate(axis=concat_axis)(list_feat)\n",
    "        nb_filter += growth_rate\n",
    "    return x, nb_filter"
   ]
  },
  {
   "cell_type": "markdown",
   "metadata": {
    "heading_collapsed": true
   },
   "source": [
    "### denseblock_altern\n",
    "* Build a denseblock where the output of each conv_factoryis fed to subsequent ones. (Alternative of a above)\n",
    "    * param x: keras model\n",
    "    * param concat_axis: int -- index of contatenate axis\n",
    "    * param nb_layers: int -- the number of layers of conv_factory to append to the model.\n",
    "    * param nb_filter: int -- number of filters\n",
    "    * param dropout_rate: int -- dropout rate\n",
    "    * param weight_decay: int -- weight decay factor\n",
    "    * returns: keras model with nb_layers of conv_factory appended\n",
    "    * rtype: keras model"
   ]
  },
  {
   "cell_type": "code",
   "execution_count": null,
   "metadata": {
    "hidden": true
   },
   "outputs": [],
   "source": [
    "def denseblock_altern(x, concat_axis, nb_layers, nb_filter, growth_rate,dropout_rate=None, weight_decay=1E-4):\n",
    "    for i in range(nb_layers):\n",
    "        merge_tensor = conv_factory(x, concat_axis, growth_rate,dropout_rate, weight_decay)\n",
    "        x = Concatenate(axis=concat_axis)([merge_tensor, x])\n",
    "        nb_filter += growth_rate\n",
    "    return x, nb_filter"
   ]
  },
  {
   "cell_type": "markdown",
   "metadata": {
    "heading_collapsed": true
   },
   "source": [
    "### DenseNet\n",
    "*  Build the DenseNet model\n",
    "    * param nb_classes: int -- number of classes\n",
    "    * param img_dim: tuple -- (channels, rows, columns)\n",
    "    * param depth: int -- how many layers\n",
    "    * param nb_dense_block: int -- number of dense blocks to add to end\n",
    "    * param growth_rate: int -- number of filters to add\n",
    "    * param nb_filter: int -- number of filters\n",
    "    * param dropout_rate: float -- dropout rate\n",
    "    * param weight_decay: float -- weight decay\n",
    "    * returns: keras model with nb_layers of conv_factory appended\n",
    "    * rtype: keras model"
   ]
  },
  {
   "cell_type": "code",
   "execution_count": null,
   "metadata": {
    "ExecuteTime": {
     "end_time": "2018-03-15T05:36:08.718361Z",
     "start_time": "2018-03-15T05:36:08.714854Z"
    },
    "hidden": true
   },
   "outputs": [],
   "source": [
    "def DenseNet(nb_classes, img_dim, depth, nb_dense_block, growth_rate, nb_filter, dropout_rate=None, weight_decay=1E-4):\n",
    "    K.image_dim_ordering() == \"tf\":\n",
    "    concat_axis = -1\n",
    "    model_input = Input(shape=img_dim)\n",
    "    assert (depth - 4) % 3 == 0, \"Depth must be 3 N + 4\"\n",
    "\n",
    "    # layers in each dense block\n",
    "    nb_layers = int((depth - 4) / 3)\n",
    "    # Initial convolution\n",
    "    x = Conv2D(nb_filter, (3, 3),kernel_initializer=\"he_uniform\",padding=\"same\",name=\"initial_conv2D\",use_bias=False,\n",
    "               kernel_regularizer=l2(weight_decay))(model_input)\n",
    "\n",
    "    # Add dense blocks\n",
    "    for block_idx in range(nb_dense_block - 1):\n",
    "        x, nb_filter = denseblock(x, concat_axis, nb_layers,nb_filter, growth_rate, \n",
    "                                  dropout_rate=dropout_rate,weight_decay=weight_decay)\n",
    "        # add transition\n",
    "        x = transition(x, nb_filter, dropout_rate=dropout_rate,weight_decay=weight_decay)\n",
    "\n",
    "    # The last denseblock does not have a transition\n",
    "    x, nb_filter = denseblock(x, concat_axis, nb_layers,nb_filter, growth_rate, \n",
    "                        d                 ropout_rate=dropout_rate,weight_decay=weight_decay)\n",
    "\n",
    "    x = BatchNormalization(axis=concat_axis,gamma_regularizer=l2(weight_decay),\n",
    "                                         beta_regularizer=l2(weight_decay))(x)\n",
    "    x = Activation('relu')(x)\n",
    "    x = GlobalAveragePooling2D(data_format=K.image_data_format())(x)\n",
    "    x = Dense(nb_classes,activation='softmax',kernel_regularizer=l2(weight_decay),bias_regularizer=l2(weight_decay))(x)\n",
    "    densenet = Model(inputs=[model_input], outputs=[x], name=\"DenseNet\")\n",
    "    return densenet"
   ]
  },
  {
   "cell_type": "markdown",
   "metadata": {},
   "source": [
    "## train and test the networks"
   ]
  },
  {
   "cell_type": "markdown",
   "metadata": {},
   "source": [
    "* CIFAR10 experiments\n",
    "    * param batch_size: int -- batch size\n",
    "    * param nb_epoch: int -- number of training epochs\n",
    "    * param depth: int -- network depth\n",
    "    * param nb_dense_block: int -- number of dense blocks\n",
    "    * param nb_filter: int -- initial number of conv filter\n",
    "    * param growth_rate: int -- number of new filters added by conv layers\n",
    "    * param dropout_rate: float -- dropout rate\n",
    "    * param learning_rate: float -- learning rate\n",
    "    * param weight_decay: float -- weight decay\n",
    "    * param plot_architecture: bool -- whether to plot network architecture"
   ]
  },
  {
   "cell_type": "code",
   "execution_count": null,
   "metadata": {
    "ExecuteTime": {
     "end_time": "2018-03-15T05:46:46.847184Z",
     "start_time": "2018-03-15T05:46:46.842170Z"
    }
   },
   "outputs": [],
   "source": [
    "import os\n",
    "import time\n",
    "import json\n",
    "import densenet\n",
    "import numpy as np\n",
    "import keras.backend as K\n",
    "from keras.datasets import cifar10\n",
    "from keras.optimizers import Adam\n",
    "from keras.utils import np_utils\n",
    "\n",
    "def run_cifar10(batch_size,nb_epoch,depth,nb_dense_block,nb_filter,growth_rate,dropout_rate,learning_rate,\n",
    "                                                       weight_decay,plot_architecture):\n",
    "\n",
    "    ###################\n",
    "    # Data processing #\n",
    "    ###################\n",
    "    # the data, shuffled and split between train and test sets\n",
    "    (X_train, y_train), (X_test, y_test) = cifar10.load_data()\n",
    "    nb_classes = len(np.unique(y_train))\n",
    "    img_dim = X_train.shape[1:]\n",
    "    n_channels = X_train.shape[-1]\n",
    "\n",
    "    # convert class vectors to binary class matrices\n",
    "    Y_train = np_utils.to_categorical(y_train, nb_classes)\n",
    "    Y_test = np_utils.to_categorical(y_test, nb_classes)\n",
    "\n",
    "    X_train = X_train.astype('float32')\n",
    "    X_test = X_test.astype('float32')\n",
    "\n",
    "    # Normalisation\n",
    "    X = np.vstack((X_train, X_test))\n",
    "    # 2 cases depending on the image ordering\n",
    "    for i in range(n_channels):\n",
    "        mean = np.mean(X[:, :, :, i])\n",
    "        std = np.std(X[:, :, :, i])\n",
    "        X_train[:, :, :, i] = (X_train[:, :, :, i] - mean) / std\n",
    "        X_test[:, :, :, i] = (X_test[:, :, :, i] - mean) / std\n",
    "\n",
    "    ###################\n",
    "    # Construct model #\n",
    "    ###################\n",
    "\n",
    "    model = densenet.DenseNet(nb_classes,img_dim,depth,nb_dense_block,growth_rate,nb_filter,\n",
    "                                               dropout_rate=dropout_rate,weight_decay=weight_decay)\n",
    "    # Model output\n",
    "    model.summary()\n",
    "\n",
    "    # Build optimizer\n",
    "    opt = Adam(lr=learning_rate, beta_1=0.9, beta_2=0.999, epsilon=1e-08)\n",
    "    model.compile(loss='categorical_crossentropy',optimizer=opt,metrics=[\"accuracy\"])\n",
    "    if plot_architecture:\n",
    "        from keras.utils.visualize_util import plot\n",
    "        plot(model, to_file='./figures/densenet_archi.png', show_shapes=True)\n",
    "\n",
    "    ####################\n",
    "    # Network training #\n",
    "    ####################\n",
    "    print(\"Training\")\n",
    "    list_train_loss = []\n",
    "    list_test_loss = []\n",
    "    list_learning_rate = []\n",
    "    for e in range(nb_epoch):\n",
    "\n",
    "        if e == int(0.5 * nb_epoch):\n",
    "            K.set_value(model.optimizer.lr, np.float32(learning_rate / 10.))\n",
    "\n",
    "        if e == int(0.75 * nb_epoch):\n",
    "            K.set_value(model.optimizer.lr, np.float32(learning_rate / 100.))\n",
    "\n",
    "        split_size = batch_size\n",
    "        num_splits = X_train.shape[0] / split_size\n",
    "        arr_splits = np.array_split(np.arange(X_train.shape[0]), num_splits)\n",
    "\n",
    "        l_train_loss = []\n",
    "        start = time.time()\n",
    "\n",
    "        for batch_idx in arr_splits:\n",
    "\n",
    "            X_batch, Y_batch = X_train[batch_idx], Y_train[batch_idx]\n",
    "            train_logloss, train_acc = model.train_on_batch(X_batch, Y_batch)\n",
    "\n",
    "            l_train_loss.append([train_logloss, train_acc])\n",
    "\n",
    "        test_logloss, test_acc = model.evaluate(X_test,Y_test,verbose=0,batch_size=64)\n",
    "        list_train_loss.append(np.mean(np.array(l_train_loss), 0).tolist())\n",
    "        list_test_loss.append([test_logloss, test_acc])\n",
    "        list_learning_rate.append(float(K.get_value(model.optimizer.lr)))\n",
    "        # to convert numpy array to json serializable\n",
    "        print('Epoch %s/%s, Time: %s' % (e + 1, nb_epoch, time.time() - start))\n",
    "\n",
    "        d_log = {}\n",
    "        d_log[\"batch_size\"] = batch_size\n",
    "        d_log[\"nb_epoch\"] = nb_epoch\n",
    "        d_log[\"optimizer\"] = opt.get_config()\n",
    "        d_log[\"train_loss\"] = list_train_loss\n",
    "        d_log[\"test_loss\"] = list_test_loss\n",
    "        d_log[\"learning_rate\"] = list_learning_rate\n",
    "\n",
    "        json_file = os.path.join('./log/experiment_log_cifar10.json')\n",
    "        with open(json_file, 'w') as fp:\n",
    "            json.dump(d_log, fp, indent=4, sort_keys=True)"
   ]
  },
  {
   "cell_type": "markdown",
   "metadata": {},
   "source": [
    "### 参数设置"
   ]
  },
  {
   "cell_type": "code",
   "execution_count": null,
   "metadata": {},
   "outputs": [],
   "source": [
    "batch_size=64\n",
    "nb_epoch=30\n",
    "depth=7\n",
    "nb_dense_block=1,        \n",
    "nb_filter=16,              \n",
    "growth_rate=12,              \n",
    "dropout_rate=0.2,              \n",
    "learning_rate=1E-3,           \n",
    "weight_decay=1E-4,\n",
    "plot_architecture=False\n",
    "run_cifar10(batch_size,nb_epoch,depth,nb_dense_block,nb_filter,growth_rate,dropout_rate,learning_rate,weight_decay,plot_architecture)"
   ]
  },
  {
   "cell_type": "markdown",
   "metadata": {},
   "source": [
    "# use the networks"
   ]
  },
  {
   "cell_type": "markdown",
   "metadata": {
    "heading_collapsed": true
   },
   "source": [
    "# 可视化结果"
   ]
  },
  {
   "cell_type": "markdown",
   "metadata": {
    "hidden": true
   },
   "source": []
  },
  {
   "cell_type": "code",
   "execution_count": null,
   "metadata": {
    "hidden": true
   },
   "outputs": [],
   "source": [
    "import matplotlib.pylab as plt\n",
    "import json\n",
    "import numpy as np\n",
    "def plot_cifar10(save=True):\n",
    "    with open(\"./log/experiment_log_cifar10.json\", \"r\") as f:\n",
    "        d = json.load(f)\n",
    "    train_accuracy = 100 * (np.array(d[\"train_loss\"])[:, 1])\n",
    "    test_accuracy = 100 * (np.array(d[\"test_loss\"])[:, 1])\n",
    "\n",
    "    fig = plt.figure()\n",
    "    ax1 = fig.add_subplot(111)\n",
    "    ax1.set_ylabel('Accuracy')\n",
    "    ax1.plot(train_accuracy, color=\"tomato\", linewidth=2, label='train_acc')\n",
    "    ax1.plot(test_accuracy, color=\"steelblue\", linewidth=2, label='test_acc')\n",
    "    ax1.legend(loc=0)\n",
    "    train_loss = np.array(d[\"train_loss\"])[:, 0]\n",
    "    test_loss = np.array(d[\"test_loss\"])[:, 0]\n",
    "    ax2 = ax1.twinx()\n",
    "    ax2.set_ylabel('Loss')\n",
    "    ax2.plot(train_loss, '--', color=\"tomato\", linewidth=2, label='train_loss')\n",
    "    ax2.plot(test_loss, '--', color=\"steelblue\", linewidth=2, label='test_loss')\n",
    "    ax2.legend(loc=1)\n",
    "    ax1.grid(True)\n",
    "    if save:\n",
    "        fig.savefig('./figures/plot_cifar10.svg')\n",
    "\n",
    "    plt.show()\n",
    "    plt.clf()\n",
    "    plt.close()"
   ]
  }
 ],
 "metadata": {
  "hide_input": false,
  "kernelspec": {
   "display_name": "Python 3",
   "language": "python",
   "name": "python3"
  },
  "latex_envs": {
   "LaTeX_envs_menu_present": true,
   "autoclose": false,
   "autocomplete": true,
   "bibliofile": "biblio.bib",
   "cite_by": "apalike",
   "current_citInitial": 1,
   "eqLabelWithNumbers": true,
   "eqNumInitial": 1,
   "hotkeys": {
    "equation": "Ctrl-E",
    "itemize": "Ctrl-I"
   },
   "labels_anchors": false,
   "latex_user_defs": false,
   "report_style_numbering": false,
   "user_envs_cfg": false
  },
  "nbTranslate": {
   "displayLangs": [
    "*"
   ],
   "hotkey": "alt-t",
   "langInMainMenu": true,
   "sourceLang": "en",
   "targetLang": "fr",
   "useGoogleTranslate": true
  },
  "toc": {
   "nav_menu": {},
   "number_sections": true,
   "sideBar": true,
   "skip_h1_title": false,
   "title_cell": "Table of Contents",
   "title_sidebar": "Contents",
   "toc_cell": false,
   "toc_position": {},
   "toc_section_display": true,
   "toc_window_display": false
  },
  "varInspector": {
   "cols": {
    "lenName": 16,
    "lenType": 16,
    "lenVar": 40
   },
   "kernels_config": {
    "python": {
     "delete_cmd_postfix": "",
     "delete_cmd_prefix": "del ",
     "library": "var_list.py",
     "varRefreshCmd": "print(var_dic_list())"
    },
    "r": {
     "delete_cmd_postfix": ") ",
     "delete_cmd_prefix": "rm(",
     "library": "var_list.r",
     "varRefreshCmd": "cat(var_dic_list()) "
    }
   },
   "types_to_exclude": [
    "module",
    "function",
    "builtin_function_or_method",
    "instance",
    "_Feature"
   ],
   "window_display": false
  }
 },
 "nbformat": 4,
 "nbformat_minor": 2
}
